{
 "cells": [
  {
   "cell_type": "markdown",
   "metadata": {},
   "source": [
    "# Python's Core Object Types"
   ]
  },
  {
   "cell_type": "markdown",
   "metadata": {},
   "source": [
    "Everything we process in Python programs is a kind of object. However, this is a python built-in (core) objects.\n",
    "Once you create an object, you bind its operations set for all time. You can perform only strings operations in a string and list operations on a list, and so on.  \n",
    "\n",
    "This means that Python is: \n",
    "- **Dynamically typed**: a model that keeps track of objetc types for you automatically instead of requiring declaration code.\n",
    "- **Strongly typed**: A constraint that means you can perform on an object *only* operations that are valid for its type."
   ]
  },
  {
   "cell_type": "markdown",
   "metadata": {},
   "source": [
    "## Numbers\n",
    "Python's core objects set includes:\n",
    "1. Integers: Numbers that have no fractional part.\n",
    "2. Floating-point: Numbers that do!\n",
    "3. Complex: Numbers with imaginary parts.\n",
    "4. Decimals: Numbers with flexible precision.\n",
    "5. Rational: Numbers with numerator and denominator.\n",
    "\n",
    "Numbers in python suport the normal mathematical operations:\n",
    "- (+): Performs addition\n",
    "- (-): Performs subtraction\n",
    "- (*): Performs multiplication\n",
    "- (/): Performs division"
   ]
  },
  {
   "cell_type": "code",
   "execution_count": 1,
   "metadata": {},
   "outputs": [
    {
     "name": "stdout",
     "output_type": "stream",
     "text": [
      "Integer addition:  36\n",
      "Floating-point multiplication:  12.5664\n",
      "2 to the power 100: 1267650600228229401496703205376\n",
      "Separators and integer: 1234568\n",
      "Separators and floating-point: 1234568.1\n",
      "How many digits in a REALLY BIG NUMBER: 3717\n"
     ]
    }
   ],
   "source": [
    "# Numbers\n",
    "print('Integer addition: ', 12 + 24)\n",
    "print('Floating-point multiplication: ', 3.1416 * 4)\n",
    "print('2 to the power 100:', 2**100)\n",
    "print('Separators and integer:', 1_234_567 + 1)\n",
    "print('Separators and floating-point:', 1_234_567 + 1.1)\n",
    "print('How many digits in a REALLY BIG NUMBER:', len(str(2**12345)))"
   ]
  },
  {
   "cell_type": "markdown",
   "metadata": {},
   "source": [
    "### Math & Random Modules\n",
    "- [math module](https://docs.python.org/3/library/math.html): Includes more advanced numeric tools as functions.\n",
    "- [random module](https://docs.python.org/3/library/random.html): Performs random-number generation and random selections "
   ]
  },
  {
   "cell_type": "code",
   "execution_count": 39,
   "metadata": {},
   "outputs": [
    {
     "name": "stdout",
     "output_type": "stream",
     "text": [
      "Pi number: 3.141592653589793\n",
      "Factorial: 24\n",
      "Combinations: 120\n",
      "Square root: 4.0\n",
      "Ceil: 13\n",
      "0.06554218531364453\n",
      "1\n"
     ]
    }
   ],
   "source": [
    "import math\n",
    "import random\n",
    "\n",
    "# Math\n",
    "print('Pi number:', math.pi)\n",
    "print('Factorial:', math.factorial(4))\n",
    "print('Combinations:', math.comb(16,2))\n",
    "print('Square root:', math.sqrt(16))\n",
    "print('Ceil:', math.ceil(12.4))\n",
    "\n",
    "# Random\n",
    "print(random.random())\n",
    "print(random.choice([1,2,3,4])) # Here we are using a list!"
   ]
  },
  {
   "cell_type": "markdown",
   "metadata": {},
   "source": [
    "## Sequence operations:\n",
    "\n",
    "Sequences are a positionally ordered collection of other objects. Sequences maintain a left-to-right order among the items they contain. Other, more general sequence objects include *list*, *tuples* and *strings*. Hence, strings are used to record:\n",
    "\n",
    "- Textual Information: Your name, your job, etc.\n",
    "- Arbitrary collections of bytes.\n"
   ]
  },
  {
   "cell_type": "code",
   "execution_count": 3,
   "metadata": {},
   "outputs": [
    {
     "name": "stdout",
     "output_type": "stream",
     "text": [
      "This is my string: String\n",
      "Len: 6\n"
     ]
    }
   ],
   "source": [
    "# Strings\n",
    "my_string = 'String' # When you assign a value, you create a variable.\n",
    "print('This is my string:', my_string)\n",
    "print('Len:', len(my_string))"
   ]
  },
  {
   "cell_type": "markdown",
   "metadata": {},
   "source": [
    "### Index & Slicing\n",
    "\n",
    "#### Indexes\n",
    "- In python indexes are coded in square brackets as offset from the front. So start from 0 the first item is at index 0, the second is at index 1, and so on.\n",
    "- We can also index backward, from the end-positive indexes count forward from the left, and negative indexes count backwards from the right. "
   ]
  },
  {
   "cell_type": "code",
   "execution_count": 4,
   "metadata": {},
   "outputs": [
    {
     "name": "stdout",
     "output_type": "stream",
     "text": [
      "First position: S\n",
      "Second position: t\n",
      "Last position: g\n",
      "Second to last: n\n"
     ]
    }
   ],
   "source": [
    "# Positive indexes\n",
    "print('First position:', my_string[0]) # First letter of my_string which is S\n",
    "print('Second position:', my_string[1]) # Second letter of my_string which is t\n",
    "\n",
    "# Negative indexes\n",
    "print('Last position:', my_string[-1]) # Last letter of my_string which is g\n",
    "print('Second to last:', my_string[-2]) # The second-to-last letter of my_string which is n"
   ]
  },
  {
   "cell_type": "markdown",
   "metadata": {},
   "source": [
    "#### Slicing\n",
    "It is a way to extract an entire section (a.k.a slice in a single step), their general form: X[i,j], that means: Give me everything in X from offeset i up to but NOT including offset j. The result is a new object.\n",
    "In a slice, the left bound defaults to zero, and the right bound defaults to the legth of the sequence being sliced."
   ]
  },
  {
   "cell_type": "code",
   "execution_count": 5,
   "metadata": {},
   "outputs": [
    {
     "name": "stdout",
     "output_type": "stream",
     "text": [
      "tri\n",
      "tring\n",
      "String\n",
      "Str\n",
      "Strin\n",
      "String\n"
     ]
    }
   ],
   "source": [
    "\n",
    "# Give me everything in my_string from offset 1 up to but NOT including offset 4\n",
    "print(my_string[1:4])\n",
    "\n",
    "# Everything pass the first\n",
    "print(my_string[1:])\n",
    "\n",
    "# my string\n",
    "print(my_string)\n",
    "\n",
    "# From[0:3]\n",
    "print(my_string[0:3])\n",
    "\n",
    "# Everything but the last\n",
    "print(my_string[:-1])\n",
    "\n",
    "# Everything\n",
    "print(my_string[:])"
   ]
  },
  {
   "cell_type": "markdown",
   "metadata": {},
   "source": [
    "#### Concatenation\n",
    "\n",
    "Sequences (like strings) also support concatenation with the plus sign, (that means joining two strings into a new string) and repetition.\n",
    "\n",
    "Notice that the plus sign (+) means different things for different objects:\n",
    "- Addition for numbers\n",
    "- Concatenation for strings\n",
    "This is a general property of Python that we'll regularly call **polymorphism**. This means, that the meaning of an operation depends on the objects being operated on."
   ]
  },
  {
   "cell_type": "code",
   "execution_count": 12,
   "metadata": {},
   "outputs": [
    {
     "name": "stdout",
     "output_type": "stream",
     "text": [
      "This is my string: String\n",
      "This is my string plus xyz: Stringxyz\n",
      "This is my string * 5: StringStringStringStringString\n"
     ]
    }
   ],
   "source": [
    "print(\"This is my string:\", my_string)\n",
    "print(\"This is my string plus xyz:\", my_string + 'xyz')\n",
    "print(\"This is my string * 5:\", my_string*5)"
   ]
  },
  {
   "cell_type": "markdown",
   "metadata": {},
   "source": [
    "## Immutability\n",
    "\n",
    "Every string operation is defined to produce a new string as its result, because strings are **immutable** in Python - They cannot be changed in place after they are created.\n",
    "You can never overwrite the values of immutable objects."
   ]
  },
  {
   "cell_type": "code",
   "execution_count": 14,
   "metadata": {},
   "outputs": [
    {
     "name": "stdout",
     "output_type": "stream",
     "text": [
      "String\n"
     ]
    },
    {
     "ename": "TypeError",
     "evalue": "'str' object does not support item assignment",
     "output_type": "error",
     "traceback": [
      "\u001b[0;31m---------------------------------------------------------------------------\u001b[0m",
      "\u001b[0;31mTypeError\u001b[0m                                 Traceback (most recent call last)",
      "\u001b[0;32m/var/folders/zp/2gpzrjfn499516dbg1rftmlr0000gn/T/ipykernel_1225/103487303.py\u001b[0m in \u001b[0;36m<cell line: 0>\u001b[0;34m()\u001b[0m\n\u001b[1;32m      1\u001b[0m \u001b[0mprint\u001b[0m\u001b[0;34m(\u001b[0m\u001b[0mmy_string\u001b[0m\u001b[0;34m)\u001b[0m\u001b[0;34m\u001b[0m\u001b[0;34m\u001b[0m\u001b[0m\n\u001b[1;32m      2\u001b[0m \u001b[0;34m\u001b[0m\u001b[0m\n\u001b[0;32m----> 3\u001b[0;31m \u001b[0mmy_string\u001b[0m\u001b[0;34m[\u001b[0m\u001b[0;36m0\u001b[0m\u001b[0;34m]\u001b[0m \u001b[0;34m=\u001b[0m \u001b[0;34m'N'\u001b[0m\u001b[0;34m\u001b[0m\u001b[0;34m\u001b[0m\u001b[0m\n\u001b[0m",
      "\u001b[0;31mTypeError\u001b[0m: 'str' object does not support item assignment"
     ]
    }
   ],
   "source": [
    "print(my_string)\n",
    "\n",
    "my_string[0] = 'N'"
   ]
  },
  {
   "cell_type": "code",
   "execution_count": 15,
   "metadata": {},
   "outputs": [
    {
     "name": "stdout",
     "output_type": "stream",
     "text": [
      "New_String\n"
     ]
    }
   ],
   "source": [
    "# But, we can create new objects.\n",
    "my_string = 'New_' + my_string\n",
    "print(my_string) "
   ]
  },
  {
   "cell_type": "markdown",
   "metadata": {},
   "source": [
    "Every object in python is classified as either immutable (unchangeable) or not. In terms of the core objects:\n",
    "- Numbers, strings and tuples are immutable. \n",
    "- lists, dictionaries and sets are not. They can be changed in lace freely. "
   ]
  },
  {
   "cell_type": "code",
   "execution_count": 19,
   "metadata": {},
   "outputs": [
    {
     "name": "stdout",
     "output_type": "stream",
     "text": [
      "This is a string: String\n",
      "This is a list of my string: ['S', 't', 'r', 'i', 'n', 'g']\n",
      "string\n"
     ]
    }
   ],
   "source": [
    "my_string = 'String'\n",
    "print(\"This is a string:\", my_string)\n",
    "\n",
    "list_string = list(my_string)\n",
    "print(\"This is a list of my string:\",list_string)\n",
    "list_string[0] = 's' # Making first letter to lower\n",
    "print(''.join(list_string))"
   ]
  },
  {
   "cell_type": "markdown",
   "metadata": {},
   "source": [
    "## Type - Specific Methods\n",
    "\n",
    "Strings also have operations all their own, available as **methods** - Functions that are attached to and act upon a specific object, which are triggered with a call expression using parentheses."
   ]
  },
  {
   "cell_type": "markdown",
   "metadata": {},
   "source": [
    "## List"
   ]
  },
  {
   "cell_type": "code",
   "execution_count": 11,
   "metadata": {},
   "outputs": [
    {
     "name": "stdout",
     "output_type": "stream",
     "text": [
      "This is a list [1, [2, 'three'], 4, 5]\n",
      "This is a dictionary {'Key 1': 'Element 1', 'Key 2': 'Element 2'}\n",
      "This is a tuple (1, 'two', 3, 'four')\n",
      "This is a set {'b', 'a', 'c'}\n"
     ]
    }
   ],
   "source": [
    "# List, Dictionaries, tuples & sets\n",
    "\n",
    "print('This is a list', [1, [2, 'three'], 4, 5])\n",
    "print('This is a dictionary', {'Key 1': 'Element 1', 'Key 2': 'Element 2'})\n",
    "print('This is a tuple', (1,'two', 3, 'four'))\n",
    "print('This is a set', set('abc'))"
   ]
  },
  {
   "cell_type": "code",
   "execution_count": 15,
   "metadata": {},
   "outputs": [
    {
     "name": "stdout",
     "output_type": "stream",
     "text": [
      "This a true value True\n",
      "This a false value False\n"
     ]
    }
   ],
   "source": [
    "# Booleans\n",
    "print('This a true value', True)\n",
    "print('This a false value', False)"
   ]
  },
  {
   "cell_type": "markdown",
   "metadata": {},
   "source": []
  }
 ],
 "metadata": {
  "kernelspec": {
   "display_name": "Python 3",
   "language": "python",
   "name": "python3"
  },
  "language_info": {
   "codemirror_mode": {
    "name": "ipython",
    "version": 3
   },
   "file_extension": ".py",
   "mimetype": "text/x-python",
   "name": "python",
   "nbconvert_exporter": "python",
   "pygments_lexer": "ipython3",
   "version": "3.11.4"
  }
 },
 "nbformat": 4,
 "nbformat_minor": 2
}
