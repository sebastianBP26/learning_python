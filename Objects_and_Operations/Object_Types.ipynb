{
 "cells": [
  {
   "cell_type": "markdown",
   "metadata": {},
   "source": [
    "# Python's Core Object Types"
   ]
  },
  {
   "cell_type": "markdown",
   "metadata": {},
   "source": [
    "Everything we process in Python programs is a kind of object. However, this is a python built-in (core) objects.\n",
    "Once you create an object, you bind its operations set for all time. You can perform only strings operations in a string and list operations on a list, and so on.  \n",
    "\n",
    "This means that Python is: \n",
    "- **Dynamically typed**: a model that keeps track of objetc types for you automatically instead of requiring declaration code.\n",
    "- **Strongly typed**: A constraint that means you can perform on an object *only* operations that are valid for its type."
   ]
  },
  {
   "cell_type": "markdown",
   "metadata": {},
   "source": [
    "## Numbers\n",
    "Python's core objects se includes:\n",
    "1. Integers: Numbers that have no fractional part.\n",
    "2. Floating-point: Numbers that do!\n",
    "3. Complex: Numbers with imaginary parts.\n",
    "4. Decimals: Numbers with flexible precision.\n",
    "5. Rational: Numbers with numerator and denominator.\n",
    "\n",
    "Numbers in python suport the normal mathematical operations:\n",
    "- (+): Performs addition\n",
    "- (-): Performs subtraction\n",
    "- (*): Performs multiplication\n",
    "- (/): Performs division"
   ]
  },
  {
   "cell_type": "code",
   "execution_count": 25,
   "metadata": {},
   "outputs": [
    {
     "name": "stdout",
     "output_type": "stream",
     "text": [
      "Integer addition:  36\n",
      "Floating-point multiplication:  12.5664\n",
      "2 to the power 100: 1267650600228229401496703205376\n",
      "Separators and integer: 1234568\n",
      "Separators and floating-point: 1234568.1\n",
      "How many digits in a REALLY BIG NUMBER: 3717\n"
     ]
    }
   ],
   "source": [
    "# Numbers\n",
    "print('Integer addition: ', 12 + 24)\n",
    "print('Floating-point multiplication: ', 3.1416 * 4)\n",
    "print('2 to the power 100:', 2**100)\n",
    "print('Separators and integer:', 1_234_567 + 1)\n",
    "print('Separators and floating-point:', 1_234_567 + 1.1)\n",
    "print('How many digits in a REALLY BIG NUMBER:', len(str(2**12345)))"
   ]
  },
  {
   "cell_type": "markdown",
   "metadata": {},
   "source": [
    "### Math & Random Modules\n",
    "- [math module](https://docs.python.org/3/library/math.html): Includes more advanced numeric tools as functions.\n",
    "- [random module](https://docs.python.org/3/library/random.html): Performs random-number generation and random selections "
   ]
  },
  {
   "cell_type": "code",
   "execution_count": 39,
   "metadata": {},
   "outputs": [
    {
     "name": "stdout",
     "output_type": "stream",
     "text": [
      "Pi number: 3.141592653589793\n",
      "Factorial: 24\n",
      "Combinations: 120\n",
      "Square root: 4.0\n",
      "Ceil: 13\n",
      "0.06554218531364453\n",
      "1\n"
     ]
    }
   ],
   "source": [
    "import math\n",
    "import random\n",
    "\n",
    "# Math\n",
    "print('Pi number:', math.pi)\n",
    "print('Factorial:', math.factorial(4))\n",
    "print('Combinations:', math.comb(16,2))\n",
    "print('Square root:', math.sqrt(16))\n",
    "print('Ceil:', math.ceil(12.4))\n",
    "\n",
    "# Random\n",
    "print(random.random())\n",
    "print(random.choice([1,2,3,4])) # Here we are using a list!"
   ]
  },
  {
   "cell_type": "markdown",
   "metadata": {},
   "source": [
    "## Sequence operations:\n",
    "\n",
    "Sequences are a positionally ordered collection of other objects. Sequences maitaing a left-to-right order among the items they contain. Other, more general sequence objects include *list*, *tuples* and *strings*. Hence, strings are used to record:\n",
    "\n",
    "- Textual Information: Your name, your job, etc.\n",
    "- Arbitrary collections of bytes.\n"
   ]
  },
  {
   "cell_type": "code",
   "execution_count": 50,
   "metadata": {},
   "outputs": [
    {
     "name": "stdout",
     "output_type": "stream",
     "text": [
      "This is my string: String\n",
      "Len: 6\n"
     ]
    }
   ],
   "source": [
    "# Strings\n",
    "my_string = 'String' # When you assign a value, you create a variable.\n",
    "print('This is my string:', my_string)\n",
    "print('Len:', len(my_string))"
   ]
  },
  {
   "cell_type": "markdown",
   "metadata": {},
   "source": [
    "### Index & Slicing\n",
    "\n",
    "#### Indexes\n",
    "- In python indexes are coded in square brackets as offset from the front. So start from 0 the first item is at index 0, the second is at index 1, and so on.\n",
    "- We can also index backward, from the end-positive indexes count forward from the left, and negative indexes count backwards from the right. "
   ]
  },
  {
   "cell_type": "code",
   "execution_count": 55,
   "metadata": {},
   "outputs": [
    {
     "name": "stdout",
     "output_type": "stream",
     "text": [
      "First position: S\n",
      "Second position: t\n",
      "Last position: g\n",
      "Second to last: n\n"
     ]
    }
   ],
   "source": [
    "# Positive indexes\n",
    "print('First position:', my_string[0]) # First letter of my_string which is S\n",
    "print('Second position:', my_string[1]) # Second letter of my_string which is t\n",
    "\n",
    "# Negative indexes\n",
    "print('Last position:', my_string[-1]) # Last letter of my_string which is g\n",
    "print('Second to last:', my_string[-2]) # The second-to-last letter of my_string which is n"
   ]
  },
  {
   "cell_type": "markdown",
   "metadata": {},
   "source": [
    "#### Slicing\n",
    "It is a way to extract an entire section (a.k.a slice in a single step), their general form: X[i,j], that means: Give me everything in X from offeset i up to but NOT including offset j. The result is a new object.\n",
    "In a slice, the left bound defaults to zero, and the right bound defaults to the legth of the sequence being sliced."
   ]
  },
  {
   "cell_type": "code",
   "execution_count": 64,
   "metadata": {},
   "outputs": [
    {
     "name": "stdout",
     "output_type": "stream",
     "text": [
      "tri\n",
      "tring\n",
      "String\n",
      "Str\n",
      "Strin\n",
      "String\n"
     ]
    }
   ],
   "source": [
    "\n",
    "# Give me everything in my_string from offset 1 up to but NOT including offset 4\n",
    "print(my_string[1:4])\n",
    "\n",
    "# Everything pass the first\n",
    "print(my_string[1:])\n",
    "\n",
    "# my string\n",
    "print(my_string)\n",
    "\n",
    "# From[0:3]\n",
    "print(my_string[0:3])\n",
    "\n",
    "# Everything but the last\n",
    "print(my_string[:-1])\n",
    "\n",
    "# Everything\n",
    "print(my_string[:])"
   ]
  },
  {
   "cell_type": "markdown",
   "metadata": {},
   "source": [
    "## List"
   ]
  },
  {
   "cell_type": "code",
   "execution_count": 11,
   "metadata": {},
   "outputs": [
    {
     "name": "stdout",
     "output_type": "stream",
     "text": [
      "This is a list [1, [2, 'three'], 4, 5]\n",
      "This is a dictionary {'Key 1': 'Element 1', 'Key 2': 'Element 2'}\n",
      "This is a tuple (1, 'two', 3, 'four')\n",
      "This is a set {'b', 'a', 'c'}\n"
     ]
    }
   ],
   "source": [
    "# List, Dictionaries, tuples & sets\n",
    "\n",
    "print('This is a list', [1, [2, 'three'], 4, 5])\n",
    "print('This is a dictionary', {'Key 1': 'Element 1', 'Key 2': 'Element 2'})\n",
    "print('This is a tuple', (1,'two', 3, 'four'))\n",
    "print('This is a set', set('abc'))"
   ]
  },
  {
   "cell_type": "code",
   "execution_count": 15,
   "metadata": {},
   "outputs": [
    {
     "name": "stdout",
     "output_type": "stream",
     "text": [
      "This a true value True\n",
      "This a false value False\n"
     ]
    }
   ],
   "source": [
    "# Booleans\n",
    "print('This a true value', True)\n",
    "print('This a false value', False)"
   ]
  },
  {
   "cell_type": "markdown",
   "metadata": {},
   "source": []
  }
 ],
 "metadata": {
  "kernelspec": {
   "display_name": "Python 3",
   "language": "python",
   "name": "python3"
  },
  "language_info": {
   "codemirror_mode": {
    "name": "ipython",
    "version": 3
   },
   "file_extension": ".py",
   "mimetype": "text/x-python",
   "name": "python",
   "nbconvert_exporter": "python",
   "pygments_lexer": "ipython3",
   "version": "3.11.4"
  }
 },
 "nbformat": 4,
 "nbformat_minor": 2
}
