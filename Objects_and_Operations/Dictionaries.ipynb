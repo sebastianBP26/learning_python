{
 "cells": [
  {
   "cell_type": "markdown",
   "metadata": {},
   "source": [
    "# Python's Core Object Types\n",
    "## Dictionaries\n",
    "\n",
    "Unlike strings and list, dictionaries are not sequences at all but are instead the only core member of a category known as **mappings**. They are collections of other objects, but they store objects by **key** instead of by relative position. Dictionaries are also **mutable** like lists\n",
    "\n",
    "## Mapping Operations\n",
    "\n",
    "Dictionaries are coded in curly braces ({}) and consts of a series of \"key:value\" pairs. They are useful when we need to associate a set of values with keys. For example:\n",
    "- Name: 'Sebastian'\n",
    "- Job: 'Data Analyst'\n",
    "- Age: 28\n"
   ]
  },
  {
   "cell_type": "code",
   "execution_count": 9,
   "metadata": {},
   "outputs": [
    {
     "name": "stdout",
     "output_type": "stream",
     "text": [
      "This is my first dictionary: {'Name': 'Sebastian', 'Job': 'Data Analyst', 'Age': 22}\n"
     ]
    }
   ],
   "source": [
    "dictionary = {'Name': 'Sebastian', 'Job': 'Data Analyst', 'Age': 22}\n",
    "print('This is my first dictionary:', dictionary)"
   ]
  },
  {
   "cell_type": "markdown",
   "metadata": {},
   "source": [
    " We can index this dictonary by key to fetch and change its key's associated values. It uses the same syntax as that used for sequences, but the item in the square bracekts is a key:"
   ]
  },
  {
   "cell_type": "code",
   "execution_count": 10,
   "metadata": {},
   "outputs": [
    {
     "name": "stdout",
     "output_type": "stream",
     "text": [
      "Name: Sebastian\n",
      "Job: Data Analyst\n",
      "Age: 28\n"
     ]
    }
   ],
   "source": [
    "print('Name:', dictionary['Name']) # Fetch value of key \"Name\"\n",
    "print('Job:', dictionary['Job'])\n",
    "\n",
    "dictionary['Age'] = 28 # Change sebastian's age from 22 to 28\n",
    "print('Age:', dictionary['Age'])"
   ]
  },
  {
   "cell_type": "code",
   "execution_count": 11,
   "metadata": {},
   "outputs": [
    {
     "name": "stdout",
     "output_type": "stream",
     "text": [
      "{'Name': 'Sebastian', 'Job': 'Sr Data Analyst', 'Age': 28}\n"
     ]
    }
   ],
   "source": [
    "dictionary = {} # Create an empty object\n",
    "dictionary['Name'] = 'Sebastian'\n",
    "dictionary['Job'] = 'Sr Data Analyst'\n",
    "dictionary['Age'] = 28\n",
    "print(dictionary)"
   ]
  },
  {
   "cell_type": "markdown",
   "metadata": {},
   "source": [
    "Dictionaies can also be used to replace **searching** operations-indexing a dictionary by key is often the fastest way to code a search in Python.\n",
    "\n",
    "We can also make dictionaries by passing to the dict type name either **keyword arguments** or the result of **zipping** together sequences of keys an values obtained at runtime."
   ]
  },
  {
   "cell_type": "code",
   "execution_count": 12,
   "metadata": {},
   "outputs": [
    {
     "name": "stdout",
     "output_type": "stream",
     "text": [
      "{'Name': 'Sebastian', 'Job': 'Sr Data Analyst', 'Age': 28}\n"
     ]
    }
   ],
   "source": [
    "d1 = dict(Name = 'Sebastian', Job = 'Sr Data Analyst', Age = 28)\n",
    "print(d1)"
   ]
  },
  {
   "cell_type": "code",
   "execution_count": 13,
   "metadata": {},
   "outputs": [
    {
     "name": "stdout",
     "output_type": "stream",
     "text": [
      "{'Name': 'Sebastian', 'Job': 'Sr Data Analyst', 'Age': 28}\n"
     ]
    }
   ],
   "source": [
    "d2 = dict(zip(['Name', 'Job', 'Age'], ['Sebastian', 'Sr Data Analyst', 28]))\n",
    "print(d2)"
   ]
  },
  {
   "cell_type": "markdown",
   "metadata": {},
   "source": [
    "Notice:\n",
    "- Dictionaries retain their insertion order\n",
    "\n",
    "## Nesting\n",
    "\n",
    "Here is another application of Python's object nesting in action. The following dictionary, coded all at once as a literal, captures more-structured information.\n",
    "\n",
    "We have three key dictionary at the top (name, jobs and age), but the values have become more complex:\n",
    "- A nested dictionary for the name First and Last.\n",
    "- A nested list for the jobs to support multiple roles and future expansion."
   ]
  },
  {
   "cell_type": "code",
   "execution_count": 14,
   "metadata": {},
   "outputs": [
    {
     "name": "stdout",
     "output_type": "stream",
     "text": [
      "{'name': {'first': 'Sebastian', 'last': 'Barroso'}, 'jobs': ['Data Analyst', 'Dev', 'Manager'], 'age': 28.8}\n"
     ]
    }
   ],
   "source": [
    "person = {'name': {'first': 'Sebastian', 'last': 'Barroso'},\n",
    "          'jobs': ['Data Analyst', 'Dev', 'Manager'],\n",
    "          'age': 28.8}\n",
    "\n",
    "print(person)"
   ]
  },
  {
   "cell_type": "markdown",
   "metadata": {},
   "source": [
    "We can access the components of this structure much as we did for our list-based matrix, but this time most indexes are dictionary keys, not list offsets:"
   ]
  },
  {
   "cell_type": "code",
   "execution_count": 18,
   "metadata": {},
   "outputs": [
    {
     "name": "stdout",
     "output_type": "stream",
     "text": [
      "Name: Sebastian Barroso\n"
     ]
    }
   ],
   "source": [
    "print('Name:', person['name']['first'] + ' ' + person['name']['last']) # Name is a nested dictionary"
   ]
  },
  {
   "cell_type": "code",
   "execution_count": 32,
   "metadata": {},
   "outputs": [
    {
     "name": "stdout",
     "output_type": "stream",
     "text": [
      "Last Position: Manager\n",
      "First Position: Data Analyst\n"
     ]
    }
   ],
   "source": [
    "print('Last Position:', person['jobs'][-1])\n",
    "print('First Position:', person['jobs'][0])\n",
    "\n",
    "person['jobs'].append('Python Developer') # Expand Sebastian's job description | Remember list can grow & shrink freely"
   ]
  },
  {
   "cell_type": "code",
   "execution_count": 33,
   "metadata": {},
   "outputs": [
    {
     "name": "stdout",
     "output_type": "stream",
     "text": [
      "Last Position: Python Developer\n"
     ]
    }
   ],
   "source": [
    "print('Last Position:', person['jobs'][-1])"
   ]
  },
  {
   "cell_type": "markdown",
   "metadata": {},
   "source": [
    "Hence, nesting allows us to build up complex information structures directly and easily. This is one of the main benefits of scripting languages like Python."
   ]
  },
  {
   "cell_type": "markdown",
   "metadata": {},
   "source": [
    "## Missing Keys: If Tests\n",
    "\n",
    "Dictionary methods also play parts in common key use cases. For instance, while we can assign to a new key to expand a dictionary, fetching a nonexistent key is still a mistake:"
   ]
  },
  {
   "cell_type": "code",
   "execution_count": 34,
   "metadata": {},
   "outputs": [
    {
     "name": "stdout",
     "output_type": "stream",
     "text": [
      "{'a': 1, 'b': 2, 'c': 3, 'd': 123}\n"
     ]
    }
   ],
   "source": [
    "test = {'a': 1, 'b': 2, 'c': 3}\n",
    "test['d'] = 123 # Assigning new keys grows dictionaries\n",
    "print(test)"
   ]
  },
  {
   "cell_type": "code",
   "execution_count": 35,
   "metadata": {},
   "outputs": [
    {
     "ename": "KeyError",
     "evalue": "'e'",
     "output_type": "error",
     "traceback": [
      "\u001b[0;31m---------------------------------------------------------------------------\u001b[0m",
      "\u001b[0;31mKeyError\u001b[0m                                  Traceback (most recent call last)",
      "\u001b[0;32m/var/folders/zp/2gpzrjfn499516dbg1rftmlr0000gn/T/ipykernel_29487/3058749993.py\u001b[0m in \u001b[0;36m<cell line: 0>\u001b[0;34m()\u001b[0m\n\u001b[0;32m----> 1\u001b[0;31m \u001b[0mtest\u001b[0m\u001b[0;34m[\u001b[0m\u001b[0;34m'e'\u001b[0m\u001b[0;34m]\u001b[0m \u001b[0;31m# Referencing a nonexistent key is an eror\u001b[0m\u001b[0;34m\u001b[0m\u001b[0;34m\u001b[0m\u001b[0m\n\u001b[0m",
      "\u001b[0;31mKeyError\u001b[0m: 'e'"
     ]
    }
   ],
   "source": [
    "test['e'] # Referencing a nonexistent key is an eror"
   ]
  },
  {
   "cell_type": "markdown",
   "metadata": {},
   "source": [
    "So, in order to avoid this error, we can handle such cases using a compound statement:"
   ]
  },
  {
   "cell_type": "code",
   "execution_count": 36,
   "metadata": {},
   "outputs": [
    {
     "name": "stdout",
     "output_type": "stream",
     "text": [
      "Missing Key, try again\n"
     ]
    }
   ],
   "source": [
    "if not 'e' in test:\n",
    "    print('Missing Key, try again')"
   ]
  },
  {
   "cell_type": "code",
   "execution_count": 39,
   "metadata": {},
   "outputs": [
    {
     "data": {
      "text/plain": [
       "1"
      ]
     },
     "execution_count": 39,
     "metadata": {},
     "output_type": "execute_result"
    }
   ],
   "source": [
    "test.get('a', 'Missing Key') # Like test['a']"
   ]
  },
  {
   "cell_type": "code",
   "execution_count": 41,
   "metadata": {},
   "outputs": [
    {
     "data": {
      "text/plain": [
       "'Missing Key'"
      ]
     },
     "execution_count": 41,
     "metadata": {},
     "output_type": "execute_result"
    }
   ],
   "source": [
    "test.get('e', 'Missing Key')"
   ]
  },
  {
   "cell_type": "code",
   "execution_count": 42,
   "metadata": {},
   "outputs": [
    {
     "data": {
      "text/plain": [
       "'Missing Key'"
      ]
     },
     "execution_count": 42,
     "metadata": {},
     "output_type": "execute_result"
    }
   ],
   "source": [
    "test['e'] if 'e' in test else 'Missing Key'"
   ]
  },
  {
   "cell_type": "markdown",
   "metadata": {},
   "source": [
    "## Item iteration: for loops"
   ]
  },
  {
   "cell_type": "markdown",
   "metadata": {},
   "source": [
    "Dictionaries come with methods to process their items one at a time:"
   ]
  },
  {
   "cell_type": "code",
   "execution_count": 44,
   "metadata": {},
   "outputs": [
    {
     "name": "stdout",
     "output_type": "stream",
     "text": [
      "{'a': 1, 'b': 2, 'c': 3, 'd': 4}\n"
     ]
    }
   ],
   "source": [
    "data = dict(a = 1, b = 2, c = 3, d = 4)\n",
    "print(data)"
   ]
  },
  {
   "cell_type": "code",
   "execution_count": 46,
   "metadata": {},
   "outputs": [
    {
     "name": "stdout",
     "output_type": "stream",
     "text": [
      "Keys: ['a', 'b', 'c', 'd']\n"
     ]
    }
   ],
   "source": [
    "print('Keys:', list(data.keys()) )# Keys"
   ]
  },
  {
   "cell_type": "code",
   "execution_count": 50,
   "metadata": {},
   "outputs": [
    {
     "name": "stdout",
     "output_type": "stream",
     "text": [
      "Values: [1, 2, 3, 4]\n"
     ]
    }
   ],
   "source": [
    "print('Values:', list(data.values()))"
   ]
  },
  {
   "cell_type": "code",
   "execution_count": 52,
   "metadata": {},
   "outputs": [
    {
     "name": "stdout",
     "output_type": "stream",
     "text": [
      "Key - Values pairs: [('a', 1), ('b', 2), ('c', 3), ('d', 4)]\n"
     ]
    }
   ],
   "source": [
    "print('Key - Values pairs:', list(data.items()))"
   ]
  },
  {
   "cell_type": "code",
   "execution_count": 53,
   "metadata": {},
   "outputs": [
    {
     "data": {
      "text/plain": [
       "'a'"
      ]
     },
     "execution_count": 53,
     "metadata": {},
     "output_type": "execute_result"
    }
   ],
   "source": [
    "# Get an iterable object:\n",
    "I = iter(data.keys()) # Get an iterator from an iterable\n",
    "next(I) # Get One Result at a time from iterator    "
   ]
  },
  {
   "cell_type": "code",
   "execution_count": 54,
   "metadata": {},
   "outputs": [
    {
     "data": {
      "text/plain": [
       "'b'"
      ]
     },
     "execution_count": 54,
     "metadata": {},
     "output_type": "execute_result"
    }
   ],
   "source": [
    "next(I)"
   ]
  },
  {
   "cell_type": "code",
   "execution_count": 55,
   "metadata": {},
   "outputs": [
    {
     "data": {
      "text/plain": [
       "'c'"
      ]
     },
     "execution_count": 55,
     "metadata": {},
     "output_type": "execute_result"
    }
   ],
   "source": [
    "next(I)"
   ]
  },
  {
   "cell_type": "code",
   "execution_count": 56,
   "metadata": {},
   "outputs": [
    {
     "data": {
      "text/plain": [
       "'d'"
      ]
     },
     "execution_count": 56,
     "metadata": {},
     "output_type": "execute_result"
    }
   ],
   "source": [
    "next(I)"
   ]
  },
  {
   "cell_type": "markdown",
   "metadata": {},
   "source": [
    "Tools that support this protocol can both save memory and minimize delays, because they dont produce all their results at once. However, for loop runs the iteration protocol automatically to step through items one at time:"
   ]
  },
  {
   "cell_type": "code",
   "execution_count": 58,
   "metadata": {},
   "outputs": [
    {
     "name": "stdout",
     "output_type": "stream",
     "text": [
      "a = 1\n",
      "b = 2\n",
      "c = 3\n",
      "d = 4\n"
     ]
    }
   ],
   "source": [
    "for key in data:\n",
    "    print(key, '=', data[key])"
   ]
  },
  {
   "cell_type": "code",
   "execution_count": null,
   "metadata": {},
   "outputs": [],
   "source": []
  }
 ],
 "metadata": {
  "kernelspec": {
   "display_name": "Python 3",
   "language": "python",
   "name": "python3"
  },
  "language_info": {
   "codemirror_mode": {
    "name": "ipython",
    "version": 3
   },
   "file_extension": ".py",
   "mimetype": "text/x-python",
   "name": "python",
   "nbconvert_exporter": "python",
   "pygments_lexer": "ipython3",
   "version": "3.11.4"
  }
 },
 "nbformat": 4,
 "nbformat_minor": 2
}
