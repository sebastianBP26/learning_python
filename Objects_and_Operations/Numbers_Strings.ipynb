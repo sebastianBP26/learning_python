{
 "cells": [
  {
   "cell_type": "markdown",
   "metadata": {},
   "source": [
    "# Python's Core Object Types\n",
    "## Numbers and Strings"
   ]
  },
  {
   "cell_type": "markdown",
   "metadata": {},
   "source": [
    "Everything we process in Python programs is a kind of object. However, this is a python built-in (core) objects.\n",
    "Once you create an object, you bind its operations set for all time. You can perform only strings operations in a string and list operations on a list, and so on.  \n",
    "\n",
    "This means that Python is: \n",
    "- **Dynamically typed**: a model that keeps track of objetc types for you automatically instead of requiring declaration code.\n",
    "- **Strongly typed**: A constraint that means you can perform on an object *only* operations that are valid for its type."
   ]
  },
  {
   "cell_type": "markdown",
   "metadata": {},
   "source": [
    "## Numbers\n",
    "Python's core objects set includes:\n",
    "1. Integers: Numbers that have no fractional part.\n",
    "2. Floating-point: Numbers that do!\n",
    "3. Complex: Numbers with imaginary parts.\n",
    "4. Decimals: Numbers with flexible precision.\n",
    "5. Rational: Numbers with numerator and denominator.\n",
    "\n",
    "Numbers in python suport the normal mathematical operations:\n",
    "- (+): Performs addition\n",
    "- (-): Performs subtraction\n",
    "- (*): Performs multiplication\n",
    "- (/): Performs division"
   ]
  },
  {
   "cell_type": "code",
   "execution_count": 1,
   "metadata": {},
   "outputs": [
    {
     "name": "stdout",
     "output_type": "stream",
     "text": [
      "Integer addition:  36\n",
      "Floating-point multiplication:  12.5664\n",
      "2 to the power 100: 1267650600228229401496703205376\n",
      "Separators and integer: 1234568\n",
      "Separators and floating-point: 1234568.1\n",
      "How many digits in a REALLY BIG NUMBER: 3717\n"
     ]
    }
   ],
   "source": [
    "# Numbers\n",
    "print('Integer addition: ', 12 + 24)\n",
    "print('Floating-point multiplication: ', 3.1416 * 4)\n",
    "print('2 to the power 100:', 2**100)\n",
    "print('Separators and integer:', 1_234_567 + 1)\n",
    "print('Separators and floating-point:', 1_234_567 + 1.1)\n",
    "print('How many digits in a REALLY BIG NUMBER:', len(str(2**12345)))"
   ]
  },
  {
   "cell_type": "markdown",
   "metadata": {},
   "source": [
    "### Math & Random Modules\n",
    "- [math module](https://docs.python.org/3/library/math.html): Includes more advanced numeric tools as functions.\n",
    "- [random module](https://docs.python.org/3/library/random.html): Performs random-number generation and random selections "
   ]
  },
  {
   "cell_type": "code",
   "execution_count": 39,
   "metadata": {},
   "outputs": [
    {
     "name": "stdout",
     "output_type": "stream",
     "text": [
      "Pi number: 3.141592653589793\n",
      "Factorial: 24\n",
      "Combinations: 120\n",
      "Square root: 4.0\n",
      "Ceil: 13\n",
      "0.06554218531364453\n",
      "1\n"
     ]
    }
   ],
   "source": [
    "import math\n",
    "import random\n",
    "\n",
    "# Math\n",
    "print('Pi number:', math.pi)\n",
    "print('Factorial:', math.factorial(4))\n",
    "print('Combinations:', math.comb(16,2))\n",
    "print('Square root:', math.sqrt(16))\n",
    "print('Ceil:', math.ceil(12.4))\n",
    "\n",
    "# Random\n",
    "print(random.random())\n",
    "print(random.choice([1,2,3,4])) # Here we are using a list!"
   ]
  },
  {
   "cell_type": "markdown",
   "metadata": {},
   "source": [
    "## Sequence operations: Strings\n",
    "\n",
    "Sequences are a positionally ordered collection of other objects. Sequences maintain a left-to-right order among the items they contain. Other, more general sequence objects include *list*, *tuples* and *strings*. Hence, strings are used to record:\n",
    "\n",
    "- Textual Information: Your name, your job, etc.\n",
    "- Arbitrary collections of bytes.\n"
   ]
  },
  {
   "cell_type": "code",
   "execution_count": 3,
   "metadata": {},
   "outputs": [
    {
     "name": "stdout",
     "output_type": "stream",
     "text": [
      "This is my string: String\n",
      "Len: 6\n"
     ]
    }
   ],
   "source": [
    "# Strings\n",
    "my_string = 'String' # When you assign a value, you create a variable.\n",
    "print('This is my string:', my_string)\n",
    "print('Len:', len(my_string))"
   ]
  },
  {
   "cell_type": "markdown",
   "metadata": {},
   "source": [
    "### Index & Slicing\n",
    "\n",
    "#### Indexes\n",
    "- In python indexes are coded in square brackets as offset from the front. So start from 0 the first item is at index 0, the second is at index 1, and so on.\n",
    "- We can also index backward, from the end-positive indexes count forward from the left, and negative indexes count backwards from the right. "
   ]
  },
  {
   "cell_type": "code",
   "execution_count": 4,
   "metadata": {},
   "outputs": [
    {
     "name": "stdout",
     "output_type": "stream",
     "text": [
      "First position: S\n",
      "Second position: t\n",
      "Last position: g\n",
      "Second to last: n\n"
     ]
    }
   ],
   "source": [
    "# Positive indexes\n",
    "print('First position:', my_string[0]) # First letter of my_string which is S\n",
    "print('Second position:', my_string[1]) # Second letter of my_string which is t\n",
    "\n",
    "# Negative indexes\n",
    "print('Last position:', my_string[-1]) # Last letter of my_string which is g\n",
    "print('Second to last:', my_string[-2]) # The second-to-last letter of my_string which is n"
   ]
  },
  {
   "cell_type": "markdown",
   "metadata": {},
   "source": [
    "#### Slicing\n",
    "It is a way to extract an entire section (a.k.a slice in a single step), their general form: X[i,j], that means: Give me everything in X from offeset i up to but NOT including offset j. The result is a new object.\n",
    "In a slice, the left bound defaults to zero, and the right bound defaults to the legth of the sequence being sliced."
   ]
  },
  {
   "cell_type": "code",
   "execution_count": 5,
   "metadata": {},
   "outputs": [
    {
     "name": "stdout",
     "output_type": "stream",
     "text": [
      "tri\n",
      "tring\n",
      "String\n",
      "Str\n",
      "Strin\n",
      "String\n"
     ]
    }
   ],
   "source": [
    "\n",
    "# Give me everything in my_string from offset 1 up to but NOT including offset 4\n",
    "print(my_string[1:4])\n",
    "\n",
    "# Everything pass the first\n",
    "print(my_string[1:])\n",
    "\n",
    "# my string\n",
    "print(my_string)\n",
    "\n",
    "# From[0:3]\n",
    "print(my_string[0:3])\n",
    "\n",
    "# Everything but the last\n",
    "print(my_string[:-1])\n",
    "\n",
    "# Everything\n",
    "print(my_string[:])"
   ]
  },
  {
   "cell_type": "markdown",
   "metadata": {},
   "source": [
    "#### Concatenation\n",
    "\n",
    "Sequences (like strings) also support concatenation with the plus sign, (that means joining two strings into a new string) and repetition.\n",
    "\n",
    "Notice that the plus sign (+) means different things for different objects:\n",
    "- Addition for numbers\n",
    "- Concatenation for strings\n",
    "This is a general property of Python that we'll regularly call **polymorphism**. This means, that the meaning of an operation depends on the objects being operated on."
   ]
  },
  {
   "cell_type": "code",
   "execution_count": 12,
   "metadata": {},
   "outputs": [
    {
     "name": "stdout",
     "output_type": "stream",
     "text": [
      "This is my string: String\n",
      "This is my string plus xyz: Stringxyz\n",
      "This is my string * 5: StringStringStringStringString\n"
     ]
    }
   ],
   "source": [
    "print(\"This is my string:\", my_string)\n",
    "print(\"This is my string plus xyz:\", my_string + 'xyz')\n",
    "print(\"This is my string * 5:\", my_string*5)"
   ]
  },
  {
   "cell_type": "markdown",
   "metadata": {},
   "source": [
    "## Immutability\n",
    "\n",
    "Every string operation is defined to produce a new string as its result, because strings are **immutable** in Python - They cannot be changed in place after they are created.\n",
    "You can never overwrite the values of immutable objects."
   ]
  },
  {
   "cell_type": "code",
   "execution_count": 14,
   "metadata": {},
   "outputs": [
    {
     "name": "stdout",
     "output_type": "stream",
     "text": [
      "String\n"
     ]
    },
    {
     "ename": "TypeError",
     "evalue": "'str' object does not support item assignment",
     "output_type": "error",
     "traceback": [
      "\u001b[0;31m---------------------------------------------------------------------------\u001b[0m",
      "\u001b[0;31mTypeError\u001b[0m                                 Traceback (most recent call last)",
      "\u001b[0;32m/var/folders/zp/2gpzrjfn499516dbg1rftmlr0000gn/T/ipykernel_1225/103487303.py\u001b[0m in \u001b[0;36m<cell line: 0>\u001b[0;34m()\u001b[0m\n\u001b[1;32m      1\u001b[0m \u001b[0mprint\u001b[0m\u001b[0;34m(\u001b[0m\u001b[0mmy_string\u001b[0m\u001b[0;34m)\u001b[0m\u001b[0;34m\u001b[0m\u001b[0;34m\u001b[0m\u001b[0m\n\u001b[1;32m      2\u001b[0m \u001b[0;34m\u001b[0m\u001b[0m\n\u001b[0;32m----> 3\u001b[0;31m \u001b[0mmy_string\u001b[0m\u001b[0;34m[\u001b[0m\u001b[0;36m0\u001b[0m\u001b[0;34m]\u001b[0m \u001b[0;34m=\u001b[0m \u001b[0;34m'N'\u001b[0m\u001b[0;34m\u001b[0m\u001b[0;34m\u001b[0m\u001b[0m\n\u001b[0m",
      "\u001b[0;31mTypeError\u001b[0m: 'str' object does not support item assignment"
     ]
    }
   ],
   "source": [
    "print(my_string)\n",
    "\n",
    "my_string[0] = 'N'"
   ]
  },
  {
   "cell_type": "code",
   "execution_count": 15,
   "metadata": {},
   "outputs": [
    {
     "name": "stdout",
     "output_type": "stream",
     "text": [
      "New_String\n"
     ]
    }
   ],
   "source": [
    "# But, we can create new objects.\n",
    "my_string = 'New_' + my_string\n",
    "print(my_string) "
   ]
  },
  {
   "cell_type": "markdown",
   "metadata": {},
   "source": [
    "Every object in python is classified as either immutable (unchangeable) or not. In terms of the core objects:\n",
    "- Numbers, strings and tuples are immutable. \n",
    "- lists, dictionaries and sets are not. They can be changed in lace freely. "
   ]
  },
  {
   "cell_type": "code",
   "execution_count": 19,
   "metadata": {},
   "outputs": [
    {
     "name": "stdout",
     "output_type": "stream",
     "text": [
      "This is a string: String\n",
      "This is a list of my string: ['S', 't', 'r', 'i', 'n', 'g']\n",
      "string\n"
     ]
    }
   ],
   "source": [
    "my_string = 'String'\n",
    "print(\"This is a string:\", my_string)\n",
    "\n",
    "list_string = list(my_string)\n",
    "print(\"This is a list of my string:\",list_string)\n",
    "list_string[0] = 's' # Making first letter to lower\n",
    "print(''.join(list_string))"
   ]
  },
  {
   "cell_type": "markdown",
   "metadata": {},
   "source": [
    "## Type - Specific Methods\n",
    "\n",
    "Strings also have operations all their own, available as **methods** - Functions that are attached to and act upon a specific object, which are triggered with a call expression using parentheses. \n",
    "\n",
    "Again, we are not changing the original strings here but creating new strings as the results."
   ]
  },
  {
   "cell_type": "code",
   "execution_count": 23,
   "metadata": {},
   "outputs": [
    {
     "name": "stdout",
     "output_type": "stream",
     "text": [
      "3\n",
      "Str_ing\n"
     ]
    }
   ],
   "source": [
    "# find()\n",
    "my_string = 'String'\n",
    "print(my_string.find('in')) # Find the offset of a substring in my_string\n",
    "\n",
    "# replace()\n",
    "print(my_string.replace('ing', '_ing')) # Replace all substrings 'ing' in my_string with '_ing'"
   ]
  },
  {
   "cell_type": "code",
   "execution_count": 25,
   "metadata": {},
   "outputs": [
    {
     "data": {
      "text/plain": [
       "['abc', 'def', 'ghi', 'jklmn']"
      ]
     },
     "execution_count": 25,
     "metadata": {},
     "output_type": "execute_result"
    }
   ],
   "source": [
    "# split()\n",
    "string_line = 'abc,def,ghi,jklmn'\n",
    "string_line.split(',') # Split on a delimiter into a list of substrings"
   ]
  },
  {
   "cell_type": "code",
   "execution_count": 29,
   "metadata": {},
   "outputs": [
    {
     "name": "stdout",
     "output_type": "stream",
     "text": [
      "Upper: STRING\n",
      "Lower: string\n"
     ]
    }
   ],
   "source": [
    "# Upper and lowercase conversions\n",
    "\n",
    "my_string = 'string'\n",
    "print('Upper:', my_string.upper() )\n",
    "\n",
    "my_string = 'STRING'\n",
    "print('Lower:',my_string.lower())"
   ]
  },
  {
   "cell_type": "code",
   "execution_count": 31,
   "metadata": {},
   "outputs": [
    {
     "name": "stdout",
     "output_type": "stream",
     "text": [
      "aaaa,bbb,ccccc,dd\n",
      "['aaaa', 'bbb', 'ccccc', 'dd']\n"
     ]
    }
   ],
   "source": [
    "#rstrip()\n",
    "string_line = 'aaaa,bbb,ccccc,dd\\n'\n",
    "print(string_line.rstrip()) # Remove whitespace characters on the right side\n",
    "\n",
    "print(string_line.rstrip().split(',')) # Combine two operations, run left to right."
   ]
  },
  {
   "cell_type": "markdown",
   "metadata": {},
   "source": [
    "## Formatting \n",
    "Strings methods are also one way to run an advanced substitution operation known as *formatting*, available as an:\n",
    "- expression (the original) \n",
    "- a string method call (newer)\n",
    "- a literal form called f-strings.\n",
    "\n",
    "All three resolve substitution values and build new strings when they are run:"
   ]
  },
  {
   "cell_type": "code",
   "execution_count": 37,
   "metadata": {},
   "outputs": [
    {
     "name": "stdout",
     "output_type": "stream",
     "text": [
      "Fomrat expression: Using Python version 3.11\n",
      "Format method:Using Python version 3.11\n",
      "Format Literal: Using Python version 3.11\n"
     ]
    }
   ],
   "source": [
    "tool = 'Python'\n",
    "major = 3\n",
    "minor = 2\n",
    "\n",
    "print('Fomrat expression:', 'Using %s version %s.%s' % (tool, major, minor + 9))\n",
    "print('Format method:' 'Using {} version {}.{}'.format(tool, major, minor + 9))\n",
    "print('Format Literal:', f'Using {tool} version {major}.{minor + 9}')"
   ]
  },
  {
   "cell_type": "code",
   "execution_count": 62,
   "metadata": {},
   "outputs": [
    {
     "name": "stdout",
     "output_type": "stream",
     "text": [
      "Digits, signs & padding: 3.14 | -0062\n",
      "Commas, decimal digits: 296,999.26 | app\n",
      "Ditto, with nested quotes 296,999.26 | app\n"
     ]
    }
   ],
   "source": [
    "print('Digits, signs & padding:', '%.2f | %+05d' % (3.1416, -62))\n",
    "print('Commas, decimal digits:','{1:,.2f} | {0}'.format('sapp'[1:], 296999.256))\n",
    "print('Ditto, with nested quotes', f'{296999.256:,.2f} |', 'sapp'[1:])"
   ]
  },
  {
   "cell_type": "markdown",
   "metadata": {},
   "source": [
    "## Getting Help\n",
    "\n",
    "- dir(object): It returns a list of all the attributes available for any object passed to it.   "
   ]
  },
  {
   "cell_type": "code",
   "execution_count": 66,
   "metadata": {},
   "outputs": [
    {
     "name": "stdout",
     "output_type": "stream",
     "text": [
      "Len: 81\n",
      "['__add__', '__class__', '__contains__', '__delattr__', '__dir__', '__doc__', '__eq__', '__format__', '__ge__', '__getattribute__', '__getitem__', '__getnewargs__', '__getstate__', '__gt__', '__hash__', '__init__', '__init_subclass__', '__iter__', '__le__', '__len__', '__lt__', '__mod__', '__mul__', '__ne__', '__new__', '__reduce__', '__reduce_ex__', '__repr__', '__rmod__', '__rmul__', '__setattr__', '__sizeof__', '__str__', '__subclasshook__', 'capitalize', 'casefold', 'center', 'count', 'encode', 'endswith', 'expandtabs', 'find', 'format', 'format_map', 'index', 'isalnum', 'isalpha', 'isascii', 'isdecimal', 'isdigit', 'isidentifier', 'islower', 'isnumeric', 'isprintable', 'isspace', 'istitle', 'isupper', 'join', 'ljust', 'lower', 'lstrip', 'maketrans', 'partition', 'removeprefix', 'removesuffix', 'replace', 'rfind', 'rindex', 'rjust', 'rpartition', 'rsplit', 'rstrip', 'split', 'splitlines', 'startswith', 'strip', 'swapcase', 'title', 'translate', 'upper', 'zfill']\n"
     ]
    }
   ],
   "source": [
    "elements = dir(tool)\n",
    "print('Len:', len(elements))\n",
    "print(elements) # The names without undersocres in the second half of this list are all the callable methods on strings objects."
   ]
  },
  {
   "cell_type": "markdown",
   "metadata": {},
   "source": [
    "### 🔤 Python String Methods Explained\n",
    "\n",
    "- `capitalize()` – Returns a copy of the string with the first character capitalized and the rest lowercased.\n",
    "- `casefold()` – Returns a case-insensitive version of the string (more aggressive than `lower()`).\n",
    "- `center(width)` – Centers the string within a field of specified width.\n",
    "- `count(sub)` – Returns the number of occurrences of a substring in the string.\n",
    "- `encode()` – Encodes the string into bytes using a specified encoding (default is UTF-8).\n",
    "- `endswith(suffix)` – Returns `True` if the string ends with the specified suffix.\n",
    "- `expandtabs(tabsize=8)` – Replaces tabs `\\t` in the string with spaces.\n",
    "- `find(sub)` – Returns the lowest index of the substring if found, else `-1`.\n",
    "- `format()` – Formats the string using placeholders `{}`.\n",
    "- `index(sub)` – Returns the lowest index of the substring, raises `ValueError` if not found.\n",
    "- `isalnum()` – Returns `True` if all characters are alphanumeric.\n",
    "- `isalpha()` – Returns `True` if all characters are alphabetic.\n",
    "- `isascii()` – Returns `True` if all characters are ASCII.\n",
    "- `isdecimal()` – Returns `True` if all characters are decimal characters (e.g., 0123456789).\n",
    "- `isdigit()` – Returns `True` if all characters are digits (including superscripts, etc.).\n",
    "- `isidentifier()` – Returns `True` if the string is a valid Python identifier.\n",
    "- `islower()` – Returns `True` if all cased characters are lowercase.\n",
    "- `isnumeric()` – Returns `True` if all characters are numeric (includes fractions, etc.).\n",
    "- `isprintable()` – Returns `True` if all characters are printable (excludes `\\n`, `\\t`).\n",
    "- `isspace()` – Returns `True` if all characters are whitespace.\n",
    "- `istitle()` – Returns `True` if the string follows title case rules.\n",
    "- `isupper()` – Returns `True` if all cased characters are uppercase.\n",
    "- `join(iterable)` – Concatenates elements of an iterable into a string, separated by this string.\n",
    "- `ljust(width)` – Left-justifies the string in a field of given width.\n",
    "- `lower()` – Converts all characters to lowercase.\n",
    "- `lstrip()` – Removes leading whitespace (or specified characters).\n",
    "- `partition(sep)` – Splits the string into 3 parts: before, separator, after.\n",
    "- `replace(old, new)` – Replaces all occurrences of a substring with another.\n",
    "- `rfind(sub)` – Returns the highest index of the substring if found, else `-1`.\n",
    "- `rindex(sub)` – Returns the highest index of the substring, raises `ValueError` if not found.\n",
    "- `rjust(width)` – Right-justifies the string in a field of given width.\n",
    "- `rpartition(sep)` – Like `partition()`, but splits at the last occurrence.\n",
    "- `rsplit(sep=None, maxsplit=-1)` – Splits the string from the right side.\n",
    "- `rstrip()` – Removes trailing whitespace (or specified characters).\n",
    "- `split(sep=None, maxsplit=-1)` – Splits the string by separator.\n",
    "- `splitlines()` – Splits the string at line breaks (`\\n`, `\\r`, etc.).\n",
    "- `startswith(prefix)` – Returns `True` if the string starts with the specified prefix.\n",
    "- `strip()` – Removes leading and trailing whitespace (or specified characters).\n",
    "- `swapcase()` – Swaps the case of each character (lower becomes upper and vice versa).\n",
    "- `title()` – Converts the first letter of each word to uppercase.\n",
    "- `translate(map)` – Returns a string mapped through a translation table.\n",
    "- `upper()` – Converts all characters to uppercase.\n",
    "- `zfill(width)` – Pads the string on the left with zeros until reaching the specified width."
   ]
  },
  {
   "cell_type": "markdown",
   "metadata": {},
   "source": [
    "To ask what do the methods do, you can pass them to the help function:"
   ]
  },
  {
   "cell_type": "code",
   "execution_count": 68,
   "metadata": {},
   "outputs": [
    {
     "name": "stdout",
     "output_type": "stream",
     "text": [
      "Help on built-in function replace:\n",
      "\n",
      "replace(old, new, count=-1, /) method of builtins.str instance\n",
      "    Return a copy with all occurrences of substring old replaced by new.\n",
      "    \n",
      "      count\n",
      "        Maximum number of occurrences to replace.\n",
      "        -1 (the default value) means replace all occurrences.\n",
      "    \n",
      "    If the optional argument count is given, only the first count occurrences are\n",
      "    replaced.\n",
      "\n"
     ]
    }
   ],
   "source": [
    "help(tool.replace)"
   ]
  },
  {
   "cell_type": "code",
   "execution_count": 69,
   "metadata": {},
   "outputs": [
    {
     "name": "stdout",
     "output_type": "stream",
     "text": [
      "No Python documentation found for 'Python'.\n",
      "Use help() to get the interactive help utility.\n",
      "Use help(str) for help on the str class.\n"
     ]
    }
   ],
   "source": [
    "help(tool)"
   ]
  },
  {
   "cell_type": "code",
   "execution_count": 71,
   "metadata": {},
   "outputs": [
    {
     "name": "stdout",
     "output_type": "stream",
     "text": [
      "Help on class str in module builtins:\n",
      "\n",
      "class str(object)\n",
      " |  str(object='') -> str\n",
      " |  str(bytes_or_buffer[, encoding[, errors]]) -> str\n",
      " |  \n",
      " |  Create a new string object from the given object. If encoding or\n",
      " |  errors is specified, then the object must expose a data buffer\n",
      " |  that will be decoded using the given encoding and error handler.\n",
      " |  Otherwise, returns the result of object.__str__() (if defined)\n",
      " |  or repr(object).\n",
      " |  encoding defaults to sys.getdefaultencoding().\n",
      " |  errors defaults to 'strict'.\n",
      " |  \n",
      " |  Methods defined here:\n",
      " |  \n",
      " |  __add__(self, value, /)\n",
      " |      Return self+value.\n",
      " |  \n",
      " |  __contains__(self, key, /)\n",
      " |      Return key in self.\n",
      " |  \n",
      " |  __eq__(self, value, /)\n",
      " |      Return self==value.\n",
      " |  \n",
      " |  __format__(self, format_spec, /)\n",
      " |      Return a formatted version of the string as described by format_spec.\n",
      " |  \n",
      " |  __ge__(self, value, /)\n",
      " |      Return self>=value.\n",
      " |  \n",
      " |  __getattribute__(self, name, /)\n",
      " |      Return getattr(self, name).\n",
      " |  \n",
      " |  __getitem__(self, key, /)\n",
      " |      Return self[key].\n",
      " |  \n",
      " |  __getnewargs__(...)\n",
      " |  \n",
      " |  __gt__(self, value, /)\n",
      " |      Return self>value.\n",
      " |  \n",
      " |  __hash__(self, /)\n",
      " |      Return hash(self).\n",
      " |  \n",
      " |  __iter__(self, /)\n",
      " |      Implement iter(self).\n",
      " |  \n",
      " |  __le__(self, value, /)\n",
      " |      Return self<=value.\n",
      " |  \n",
      " |  __len__(self, /)\n",
      " |      Return len(self).\n",
      " |  \n",
      " |  __lt__(self, value, /)\n",
      " |      Return self<value.\n",
      " |  \n",
      " |  __mod__(self, value, /)\n",
      " |      Return self%value.\n",
      " |  \n",
      " |  __mul__(self, value, /)\n",
      " |      Return self*value.\n",
      " |  \n",
      " |  __ne__(self, value, /)\n",
      " |      Return self!=value.\n",
      " |  \n",
      " |  __repr__(self, /)\n",
      " |      Return repr(self).\n",
      " |  \n",
      " |  __rmod__(self, value, /)\n",
      " |      Return value%self.\n",
      " |  \n",
      " |  __rmul__(self, value, /)\n",
      " |      Return value*self.\n",
      " |  \n",
      " |  __sizeof__(self, /)\n",
      " |      Return the size of the string in memory, in bytes.\n",
      " |  \n",
      " |  __str__(self, /)\n",
      " |      Return str(self).\n",
      " |  \n",
      " |  capitalize(self, /)\n",
      " |      Return a capitalized version of the string.\n",
      " |      \n",
      " |      More specifically, make the first character have upper case and the rest lower\n",
      " |      case.\n",
      " |  \n",
      " |  casefold(self, /)\n",
      " |      Return a version of the string suitable for caseless comparisons.\n",
      " |  \n",
      " |  center(self, width, fillchar=' ', /)\n",
      " |      Return a centered string of length width.\n",
      " |      \n",
      " |      Padding is done using the specified fill character (default is a space).\n",
      " |  \n",
      " |  count(...)\n",
      " |      S.count(sub[, start[, end]]) -> int\n",
      " |      \n",
      " |      Return the number of non-overlapping occurrences of substring sub in\n",
      " |      string S[start:end].  Optional arguments start and end are\n",
      " |      interpreted as in slice notation.\n",
      " |  \n",
      " |  encode(self, /, encoding='utf-8', errors='strict')\n",
      " |      Encode the string using the codec registered for encoding.\n",
      " |      \n",
      " |      encoding\n",
      " |        The encoding in which to encode the string.\n",
      " |      errors\n",
      " |        The error handling scheme to use for encoding errors.\n",
      " |        The default is 'strict' meaning that encoding errors raise a\n",
      " |        UnicodeEncodeError.  Other possible values are 'ignore', 'replace' and\n",
      " |        'xmlcharrefreplace' as well as any other name registered with\n",
      " |        codecs.register_error that can handle UnicodeEncodeErrors.\n",
      " |  \n",
      " |  endswith(...)\n",
      " |      S.endswith(suffix[, start[, end]]) -> bool\n",
      " |      \n",
      " |      Return True if S ends with the specified suffix, False otherwise.\n",
      " |      With optional start, test S beginning at that position.\n",
      " |      With optional end, stop comparing S at that position.\n",
      " |      suffix can also be a tuple of strings to try.\n",
      " |  \n",
      " |  expandtabs(self, /, tabsize=8)\n",
      " |      Return a copy where all tab characters are expanded using spaces.\n",
      " |      \n",
      " |      If tabsize is not given, a tab size of 8 characters is assumed.\n",
      " |  \n",
      " |  find(...)\n",
      " |      S.find(sub[, start[, end]]) -> int\n",
      " |      \n",
      " |      Return the lowest index in S where substring sub is found,\n",
      " |      such that sub is contained within S[start:end].  Optional\n",
      " |      arguments start and end are interpreted as in slice notation.\n",
      " |      \n",
      " |      Return -1 on failure.\n",
      " |  \n",
      " |  format(...)\n",
      " |      S.format(*args, **kwargs) -> str\n",
      " |      \n",
      " |      Return a formatted version of S, using substitutions from args and kwargs.\n",
      " |      The substitutions are identified by braces ('{' and '}').\n",
      " |  \n",
      " |  format_map(...)\n",
      " |      S.format_map(mapping) -> str\n",
      " |      \n",
      " |      Return a formatted version of S, using substitutions from mapping.\n",
      " |      The substitutions are identified by braces ('{' and '}').\n",
      " |  \n",
      " |  index(...)\n",
      " |      S.index(sub[, start[, end]]) -> int\n",
      " |      \n",
      " |      Return the lowest index in S where substring sub is found,\n",
      " |      such that sub is contained within S[start:end].  Optional\n",
      " |      arguments start and end are interpreted as in slice notation.\n",
      " |      \n",
      " |      Raises ValueError when the substring is not found.\n",
      " |  \n",
      " |  isalnum(self, /)\n",
      " |      Return True if the string is an alpha-numeric string, False otherwise.\n",
      " |      \n",
      " |      A string is alpha-numeric if all characters in the string are alpha-numeric and\n",
      " |      there is at least one character in the string.\n",
      " |  \n",
      " |  isalpha(self, /)\n",
      " |      Return True if the string is an alphabetic string, False otherwise.\n",
      " |      \n",
      " |      A string is alphabetic if all characters in the string are alphabetic and there\n",
      " |      is at least one character in the string.\n",
      " |  \n",
      " |  isascii(self, /)\n",
      " |      Return True if all characters in the string are ASCII, False otherwise.\n",
      " |      \n",
      " |      ASCII characters have code points in the range U+0000-U+007F.\n",
      " |      Empty string is ASCII too.\n",
      " |  \n",
      " |  isdecimal(self, /)\n",
      " |      Return True if the string is a decimal string, False otherwise.\n",
      " |      \n",
      " |      A string is a decimal string if all characters in the string are decimal and\n",
      " |      there is at least one character in the string.\n",
      " |  \n",
      " |  isdigit(self, /)\n",
      " |      Return True if the string is a digit string, False otherwise.\n",
      " |      \n",
      " |      A string is a digit string if all characters in the string are digits and there\n",
      " |      is at least one character in the string.\n",
      " |  \n",
      " |  isidentifier(self, /)\n",
      " |      Return True if the string is a valid Python identifier, False otherwise.\n",
      " |      \n",
      " |      Call keyword.iskeyword(s) to test whether string s is a reserved identifier,\n",
      " |      such as \"def\" or \"class\".\n",
      " |  \n",
      " |  islower(self, /)\n",
      " |      Return True if the string is a lowercase string, False otherwise.\n",
      " |      \n",
      " |      A string is lowercase if all cased characters in the string are lowercase and\n",
      " |      there is at least one cased character in the string.\n",
      " |  \n",
      " |  isnumeric(self, /)\n",
      " |      Return True if the string is a numeric string, False otherwise.\n",
      " |      \n",
      " |      A string is numeric if all characters in the string are numeric and there is at\n",
      " |      least one character in the string.\n",
      " |  \n",
      " |  isprintable(self, /)\n",
      " |      Return True if the string is printable, False otherwise.\n",
      " |      \n",
      " |      A string is printable if all of its characters are considered printable in\n",
      " |      repr() or if it is empty.\n",
      " |  \n",
      " |  isspace(self, /)\n",
      " |      Return True if the string is a whitespace string, False otherwise.\n",
      " |      \n",
      " |      A string is whitespace if all characters in the string are whitespace and there\n",
      " |      is at least one character in the string.\n",
      " |  \n",
      " |  istitle(self, /)\n",
      " |      Return True if the string is a title-cased string, False otherwise.\n",
      " |      \n",
      " |      In a title-cased string, upper- and title-case characters may only\n",
      " |      follow uncased characters and lowercase characters only cased ones.\n",
      " |  \n",
      " |  isupper(self, /)\n",
      " |      Return True if the string is an uppercase string, False otherwise.\n",
      " |      \n",
      " |      A string is uppercase if all cased characters in the string are uppercase and\n",
      " |      there is at least one cased character in the string.\n",
      " |  \n",
      " |  join(self, iterable, /)\n",
      " |      Concatenate any number of strings.\n",
      " |      \n",
      " |      The string whose method is called is inserted in between each given string.\n",
      " |      The result is returned as a new string.\n",
      " |      \n",
      " |      Example: '.'.join(['ab', 'pq', 'rs']) -> 'ab.pq.rs'\n",
      " |  \n",
      " |  ljust(self, width, fillchar=' ', /)\n",
      " |      Return a left-justified string of length width.\n",
      " |      \n",
      " |      Padding is done using the specified fill character (default is a space).\n",
      " |  \n",
      " |  lower(self, /)\n",
      " |      Return a copy of the string converted to lowercase.\n",
      " |  \n",
      " |  lstrip(self, chars=None, /)\n",
      " |      Return a copy of the string with leading whitespace removed.\n",
      " |      \n",
      " |      If chars is given and not None, remove characters in chars instead.\n",
      " |  \n",
      " |  partition(self, sep, /)\n",
      " |      Partition the string into three parts using the given separator.\n",
      " |      \n",
      " |      This will search for the separator in the string.  If the separator is found,\n",
      " |      returns a 3-tuple containing the part before the separator, the separator\n",
      " |      itself, and the part after it.\n",
      " |      \n",
      " |      If the separator is not found, returns a 3-tuple containing the original string\n",
      " |      and two empty strings.\n",
      " |  \n",
      " |  removeprefix(self, prefix, /)\n",
      " |      Return a str with the given prefix string removed if present.\n",
      " |      \n",
      " |      If the string starts with the prefix string, return string[len(prefix):].\n",
      " |      Otherwise, return a copy of the original string.\n",
      " |  \n",
      " |  removesuffix(self, suffix, /)\n",
      " |      Return a str with the given suffix string removed if present.\n",
      " |      \n",
      " |      If the string ends with the suffix string and that suffix is not empty,\n",
      " |      return string[:-len(suffix)]. Otherwise, return a copy of the original\n",
      " |      string.\n",
      " |  \n",
      " |  replace(self, old, new, count=-1, /)\n",
      " |      Return a copy with all occurrences of substring old replaced by new.\n",
      " |      \n",
      " |        count\n",
      " |          Maximum number of occurrences to replace.\n",
      " |          -1 (the default value) means replace all occurrences.\n",
      " |      \n",
      " |      If the optional argument count is given, only the first count occurrences are\n",
      " |      replaced.\n",
      " |  \n",
      " |  rfind(...)\n",
      " |      S.rfind(sub[, start[, end]]) -> int\n",
      " |      \n",
      " |      Return the highest index in S where substring sub is found,\n",
      " |      such that sub is contained within S[start:end].  Optional\n",
      " |      arguments start and end are interpreted as in slice notation.\n",
      " |      \n",
      " |      Return -1 on failure.\n",
      " |  \n",
      " |  rindex(...)\n",
      " |      S.rindex(sub[, start[, end]]) -> int\n",
      " |      \n",
      " |      Return the highest index in S where substring sub is found,\n",
      " |      such that sub is contained within S[start:end].  Optional\n",
      " |      arguments start and end are interpreted as in slice notation.\n",
      " |      \n",
      " |      Raises ValueError when the substring is not found.\n",
      " |  \n",
      " |  rjust(self, width, fillchar=' ', /)\n",
      " |      Return a right-justified string of length width.\n",
      " |      \n",
      " |      Padding is done using the specified fill character (default is a space).\n",
      " |  \n",
      " |  rpartition(self, sep, /)\n",
      " |      Partition the string into three parts using the given separator.\n",
      " |      \n",
      " |      This will search for the separator in the string, starting at the end. If\n",
      " |      the separator is found, returns a 3-tuple containing the part before the\n",
      " |      separator, the separator itself, and the part after it.\n",
      " |      \n",
      " |      If the separator is not found, returns a 3-tuple containing two empty strings\n",
      " |      and the original string.\n",
      " |  \n",
      " |  rsplit(self, /, sep=None, maxsplit=-1)\n",
      " |      Return a list of the substrings in the string, using sep as the separator string.\n",
      " |      \n",
      " |        sep\n",
      " |          The separator used to split the string.\n",
      " |      \n",
      " |          When set to None (the default value), will split on any whitespace\n",
      " |          character (including \\\\n \\\\r \\\\t \\\\f and spaces) and will discard\n",
      " |          empty strings from the result.\n",
      " |        maxsplit\n",
      " |          Maximum number of splits (starting from the left).\n",
      " |          -1 (the default value) means no limit.\n",
      " |      \n",
      " |      Splitting starts at the end of the string and works to the front.\n",
      " |  \n",
      " |  rstrip(self, chars=None, /)\n",
      " |      Return a copy of the string with trailing whitespace removed.\n",
      " |      \n",
      " |      If chars is given and not None, remove characters in chars instead.\n",
      " |  \n",
      " |  split(self, /, sep=None, maxsplit=-1)\n",
      " |      Return a list of the substrings in the string, using sep as the separator string.\n",
      " |      \n",
      " |        sep\n",
      " |          The separator used to split the string.\n",
      " |      \n",
      " |          When set to None (the default value), will split on any whitespace\n",
      " |          character (including \\\\n \\\\r \\\\t \\\\f and spaces) and will discard\n",
      " |          empty strings from the result.\n",
      " |        maxsplit\n",
      " |          Maximum number of splits (starting from the left).\n",
      " |          -1 (the default value) means no limit.\n",
      " |      \n",
      " |      Note, str.split() is mainly useful for data that has been intentionally\n",
      " |      delimited.  With natural text that includes punctuation, consider using\n",
      " |      the regular expression module.\n",
      " |  \n",
      " |  splitlines(self, /, keepends=False)\n",
      " |      Return a list of the lines in the string, breaking at line boundaries.\n",
      " |      \n",
      " |      Line breaks are not included in the resulting list unless keepends is given and\n",
      " |      true.\n",
      " |  \n",
      " |  startswith(...)\n",
      " |      S.startswith(prefix[, start[, end]]) -> bool\n",
      " |      \n",
      " |      Return True if S starts with the specified prefix, False otherwise.\n",
      " |      With optional start, test S beginning at that position.\n",
      " |      With optional end, stop comparing S at that position.\n",
      " |      prefix can also be a tuple of strings to try.\n",
      " |  \n",
      " |  strip(self, chars=None, /)\n",
      " |      Return a copy of the string with leading and trailing whitespace removed.\n",
      " |      \n",
      " |      If chars is given and not None, remove characters in chars instead.\n",
      " |  \n",
      " |  swapcase(self, /)\n",
      " |      Convert uppercase characters to lowercase and lowercase characters to uppercase.\n",
      " |  \n",
      " |  title(self, /)\n",
      " |      Return a version of the string where each word is titlecased.\n",
      " |      \n",
      " |      More specifically, words start with uppercased characters and all remaining\n",
      " |      cased characters have lower case.\n",
      " |  \n",
      " |  translate(self, table, /)\n",
      " |      Replace each character in the string using the given translation table.\n",
      " |      \n",
      " |        table\n",
      " |          Translation table, which must be a mapping of Unicode ordinals to\n",
      " |          Unicode ordinals, strings, or None.\n",
      " |      \n",
      " |      The table must implement lookup/indexing via __getitem__, for instance a\n",
      " |      dictionary or list.  If this operation raises LookupError, the character is\n",
      " |      left untouched.  Characters mapped to None are deleted.\n",
      " |  \n",
      " |  upper(self, /)\n",
      " |      Return a copy of the string converted to uppercase.\n",
      " |  \n",
      " |  zfill(self, width, /)\n",
      " |      Pad a numeric string with zeros on the left, to fill a field of the given width.\n",
      " |      \n",
      " |      The string is never truncated.\n",
      " |  \n",
      " |  ----------------------------------------------------------------------\n",
      " |  Static methods defined here:\n",
      " |  \n",
      " |  __new__(*args, **kwargs) from builtins.type\n",
      " |      Create and return a new object.  See help(type) for accurate signature.\n",
      " |  \n",
      " |  maketrans(...)\n",
      " |      Return a translation table usable for str.translate().\n",
      " |      \n",
      " |      If there is only one argument, it must be a dictionary mapping Unicode\n",
      " |      ordinals (integers) or characters to Unicode ordinals, strings or None.\n",
      " |      Character keys will be then converted to ordinals.\n",
      " |      If there are two arguments, they must be strings of equal length, and\n",
      " |      in the resulting dictionary, each character in x will be mapped to the\n",
      " |      character at the same position in y. If there is a third argument, it\n",
      " |      must be a string, whose characters will be mapped to None in the result.\n",
      "\n"
     ]
    }
   ],
   "source": [
    "help(type(tool))"
   ]
  },
  {
   "cell_type": "markdown",
   "metadata": {},
   "source": [
    "## Other Ways to Code Strings\n",
    "### **Backslash**"
   ]
  },
  {
   "cell_type": "code",
   "execution_count": 73,
   "metadata": {},
   "outputs": [
    {
     "name": "stdout",
     "output_type": "stream",
     "text": [
      "A\n",
      "B\tC\n",
      "5\n"
     ]
    }
   ],
   "source": [
    "# Special characters can be represented as **backslash** escape \n",
    "\n",
    "s = 'A\\nB\\tC' #  \\n is a newline,  \\t is a tab.\n",
    "print(s)\n",
    "print(len(s)) # Each stands for just one character."
   ]
  },
  {
   "cell_type": "code",
   "execution_count": 74,
   "metadata": {},
   "outputs": [
    {
     "name": "stdout",
     "output_type": "stream",
     "text": [
      "A\u0000B\u0000C\n"
     ]
    }
   ],
   "source": [
    "s = 'A\\0B\\0C' # A binary zero byte, does not terminate string\n",
    "print(s)"
   ]
  },
  {
   "cell_type": "code",
   "execution_count": 76,
   "metadata": {},
   "outputs": [
    {
     "name": "stdout",
     "output_type": "stream",
     "text": [
      "A\u0000B\u0000C\n"
     ]
    }
   ],
   "source": [
    "s = 'A\\x00B\\x00C'\n",
    "print(s)"
   ]
  },
  {
   "cell_type": "markdown",
   "metadata": {},
   "source": [
    "### **Single or Double quotes**: \n",
    "* Python allows strings to be enclosed in single or double quote characters- They mean the same thing but allow the other type of quote to be embedded without an escape. Most programmers prefer single quotes for less clutter.\n",
    "* You can also code multiline string literals enclosed in triple quotes (double or single, ie: \"\"\" \"\"\"\" or ''' '''). When used, all the lines are concatenated together, and newline characters (\\n) are added where line breaks appear."
   ]
  },
  {
   "cell_type": "code",
   "execution_count": 77,
   "metadata": {},
   "outputs": [
    {
     "name": "stdout",
     "output_type": "stream",
     "text": [
      " \n",
      "Hi, this is string\n",
      "using 'multiline strings'\n",
      "See you\n",
      "\n"
     ]
    }
   ],
   "source": [
    "msg = \"\"\" \n",
    "Hi, this is string\n",
    "using 'multiline strings'\n",
    "See you\n",
    "\"\"\"\n",
    "print(msg)"
   ]
  },
  {
   "cell_type": "markdown",
   "metadata": {},
   "source": [
    "### **Raw strings** \n",
    "Raw strings literal turns off the backslash escape mechanism. They start with the letter **r** and are useful for strigs like regular - expressions patterns, and directory paths on Windows sans doubled-up backslashes (e.g. r'C:\\Users\\you\\code\\here.py)"
   ]
  },
  {
   "cell_type": "markdown",
   "metadata": {},
   "source": [
    "## Unicode Strings\n",
    "Python's strings also come with full Unicode Support required for processing non-ASCII text. Such text includes:\n",
    "- Characters in non-enlighs languages.\n",
    "- Symbols\n",
    "- Emojis\n",
    "\n",
    "They are common in web pages, emails, GUIs, documents and data."
   ]
  },
  {
   "cell_type": "code",
   "execution_count": 78,
   "metadata": {},
   "outputs": [
    {
     "name": "stdout",
     "output_type": "stream",
     "text": [
      "Code\n"
     ]
    }
   ],
   "source": [
    "string = 'Code'\n",
    "print(string) # Characters may be any size in memory"
   ]
  },
  {
   "cell_type": "code",
   "execution_count": 79,
   "metadata": {},
   "outputs": [
    {
     "data": {
      "text/plain": [
       "b'Code'"
      ]
     },
     "execution_count": 79,
     "metadata": {},
     "output_type": "execute_result"
    }
   ],
   "source": [
    "string.encode('utf-8') # Encoded to 4 bytes in UTF-8 in files"
   ]
  },
  {
   "cell_type": "code",
   "execution_count": 80,
   "metadata": {},
   "outputs": [
    {
     "data": {
      "text/plain": [
       "b'\\xff\\xfeC\\x00o\\x00d\\x00e\\x00'"
      ]
     },
     "execution_count": 80,
     "metadata": {},
     "output_type": "execute_result"
    }
   ],
   "source": [
    "string.encode('utf-16') # But encoded to 10 bytes in UTF-16"
   ]
  },
  {
   "cell_type": "markdown",
   "metadata": {},
   "source": []
  }
 ],
 "metadata": {
  "kernelspec": {
   "display_name": "Python 3",
   "language": "python",
   "name": "python3"
  },
  "language_info": {
   "codemirror_mode": {
    "name": "ipython",
    "version": 3
   },
   "file_extension": ".py",
   "mimetype": "text/x-python",
   "name": "python",
   "nbconvert_exporter": "python",
   "pygments_lexer": "ipython3",
   "version": "3.11.4"
  }
 },
 "nbformat": 4,
 "nbformat_minor": 2
}
