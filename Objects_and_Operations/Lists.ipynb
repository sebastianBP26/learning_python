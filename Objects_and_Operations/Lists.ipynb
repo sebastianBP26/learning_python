{
 "cells": [
  {
   "cell_type": "markdown",
   "metadata": {},
   "source": [
    "# Python's Core Object Types\n",
    "## Lists\n",
    "\n",
    "Lists are positionally ordered collections of arbitrarily typed objects and they have no fixed size.\n",
    "They are also **mutable** (unlike strings). \n",
    "\n",
    "Because they are sequences, lists support all the sequence operations we discussed for strings; the only difference is that most of them return lists instead of strings. \n",
    "\n",
    "## Sequence Operations"
   ]
  },
  {
   "cell_type": "code",
   "execution_count": 14,
   "metadata": {},
   "outputs": [
    {
     "name": "stdout",
     "output_type": "stream",
     "text": [
      "This is my first list: [146, 'value', 3.141592653589793]\n",
      "It has 3 elements.\n"
     ]
    }
   ],
   "source": [
    "import math\n",
    "\n",
    "my_list = [146, 'value', math.pi] # A list of three different-type objects, int, string and float\n",
    "\n",
    "# Print Information about our list:\n",
    "print('This is my first list:',my_list)\n",
    "print(f'It has {len(my_list)} elements.')"
   ]
  },
  {
   "cell_type": "markdown",
   "metadata": {},
   "source": [
    "As in the strings, we can index, slice, and so on..."
   ]
  },
  {
   "cell_type": "code",
   "execution_count": 11,
   "metadata": {},
   "outputs": [
    {
     "name": "stdout",
     "output_type": "stream",
     "text": [
      "146\n",
      "[146, 'value']\n",
      "[146, 'value', 3.141592653589793, 59, 60, 45]\n",
      "[146, 'value', 3.141592653589793, 146, 'value', 3.141592653589793]\n",
      "My inicial list [146, 'value', 3.141592653589793]\n"
     ]
    }
   ],
   "source": [
    "\n",
    "# Indexing\n",
    "print(my_list[0]) # Indexing by position (offset)\n",
    "\n",
    "# Slicing\n",
    "print(my_list[:-1]) # Slicing a list returns a new list.\n",
    "\n",
    "\n",
    "# Concat / repeat \n",
    "print(my_list + [59, 60, 45]) # Make a new lists as well.\n",
    "print(my_list * 2)\n",
    "\n",
    "# In all the cases, we are not changing the original list\n",
    "print('My inicial list:', my_list)"
   ]
  },
  {
   "cell_type": "markdown",
   "metadata": {},
   "source": [
    "## Type-Specific Operations\n",
    "\n",
    "Python's lists may be reminiscent of arrays in other languages. However, they tend to be more powerful because:\n",
    "- They have no fixed type constraint.\n",
    "- They have no fixed size."
   ]
  },
  {
   "cell_type": "code",
   "execution_count": 15,
   "metadata": {},
   "outputs": [
    {
     "name": "stdout",
     "output_type": "stream",
     "text": [
      "List: [146, 'value', 3.141592653589793, 'Python']\n"
     ]
    }
   ],
   "source": [
    "# Append: Growing add object at end of list.\n",
    "my_list.append('Python')\n",
    "print('List:', my_list)"
   ]
  },
  {
   "cell_type": "code",
   "execution_count": 16,
   "metadata": {},
   "outputs": [
    {
     "name": "stdout",
     "output_type": "stream",
     "text": [
      "value\n",
      "[146, 3.141592653589793, 'Python']\n"
     ]
    }
   ],
   "source": [
    "# Shrinking: Delete an item in the middle\n",
    "print(my_list.pop(1))\n",
    "print(my_list)"
   ]
  },
  {
   "cell_type": "markdown",
   "metadata": {},
   "source": [
    "Because lists are mutable, most list methods also change the list object in place, instead of making new one:"
   ]
  },
  {
   "cell_type": "code",
   "execution_count": 20,
   "metadata": {},
   "outputs": [
    {
     "name": "stdout",
     "output_type": "stream",
     "text": [
      "Second list: ['dd', 'aa', 'ccc', 'bb']\n",
      "Sorting List ['aa', 'bb', 'ccc', 'dd']\n",
      "Reverse list ['dd', 'ccc', 'bb', 'aa']\n"
     ]
    }
   ],
   "source": [
    "second_list = ['dd', 'aa', 'ccc', 'bb']\n",
    "print('Second list:', second_list)\n",
    "\n",
    "second_list.sort() # Sorting the list in ascending fashion by default\n",
    "print('Sorting List',second_list)\n",
    "\n",
    "second_list.reverse() # reversing the list\n",
    "print('Reverse list', second_list)\n",
    "\n",
    "# Look how both methods MODIFY the list directly"
   ]
  },
  {
   "cell_type": "markdown",
   "metadata": {},
   "source": [
    "## Bounds Checking\n",
    "\n",
    "Although lists have no fixed size, Python still doesn't allow us to reference items that are not present. Indexing off the end of a list is always a mistake, but so is assigning off the end."
   ]
  },
  {
   "cell_type": "code",
   "execution_count": 21,
   "metadata": {},
   "outputs": [
    {
     "name": "stdout",
     "output_type": "stream",
     "text": [
      "[146, 3.141592653589793, 'Python']\n"
     ]
    },
    {
     "ename": "IndexError",
     "evalue": "list index out of range",
     "output_type": "error",
     "traceback": [
      "\u001b[0;31m---------------------------------------------------------------------------\u001b[0m",
      "\u001b[0;31mIndexError\u001b[0m                                Traceback (most recent call last)",
      "\u001b[0;32m/var/folders/zp/2gpzrjfn499516dbg1rftmlr0000gn/T/ipykernel_23601/3874420238.py\u001b[0m in \u001b[0;36m<cell line: 0>\u001b[0;34m()\u001b[0m\n\u001b[1;32m      1\u001b[0m \u001b[0mprint\u001b[0m\u001b[0;34m(\u001b[0m\u001b[0mmy_list\u001b[0m\u001b[0;34m)\u001b[0m\u001b[0;34m\u001b[0m\u001b[0;34m\u001b[0m\u001b[0m\n\u001b[1;32m      2\u001b[0m \u001b[0;34m\u001b[0m\u001b[0m\n\u001b[0;32m----> 3\u001b[0;31m \u001b[0mprint\u001b[0m\u001b[0;34m(\u001b[0m\u001b[0mmy_list\u001b[0m\u001b[0;34m[\u001b[0m\u001b[0;36m99\u001b[0m\u001b[0;34m]\u001b[0m\u001b[0;34m)\u001b[0m\u001b[0;34m\u001b[0m\u001b[0;34m\u001b[0m\u001b[0m\n\u001b[0m",
      "\u001b[0;31mIndexError\u001b[0m: list index out of range"
     ]
    }
   ],
   "source": [
    "print(my_list)\n",
    "\n",
    "print(my_list[99])"
   ]
  },
  {
   "cell_type": "code",
   "execution_count": 22,
   "metadata": {},
   "outputs": [
    {
     "ename": "IndexError",
     "evalue": "list assignment index out of range",
     "output_type": "error",
     "traceback": [
      "\u001b[0;31m---------------------------------------------------------------------------\u001b[0m",
      "\u001b[0;31mIndexError\u001b[0m                                Traceback (most recent call last)",
      "\u001b[0;32m/var/folders/zp/2gpzrjfn499516dbg1rftmlr0000gn/T/ipykernel_23601/4016192869.py\u001b[0m in \u001b[0;36m<cell line: 0>\u001b[0;34m()\u001b[0m\n\u001b[0;32m----> 1\u001b[0;31m \u001b[0mmy_list\u001b[0m\u001b[0;34m[\u001b[0m\u001b[0;36m99\u001b[0m\u001b[0;34m]\u001b[0m \u001b[0;34m=\u001b[0m \u001b[0;36m1456\u001b[0m\u001b[0;34m\u001b[0m\u001b[0;34m\u001b[0m\u001b[0m\n\u001b[0m",
      "\u001b[0;31mIndexError\u001b[0m: list assignment index out of range"
     ]
    }
   ],
   "source": [
    "my_list[99] = 1456"
   ]
  },
  {
   "cell_type": "markdown",
   "metadata": {},
   "source": [
    "Hence, in order to grow a list, we call list methods such as append instead (or make a new list)."
   ]
  },
  {
   "cell_type": "markdown",
   "metadata": {},
   "source": [
    "## Nesting\n",
    "\n",
    "One nice feature of python's core objects types is that they support arbitrary **nesting** - we can nest them in any combination, and as deeply as we like. For example, we can have a list that contains a dictionary which contains another list, and so on...\n",
    "\n",
    "An intermediate application of this feature is to represnet matrixes, or \"multidimensional arrays\" in Python."
   ]
  },
  {
   "cell_type": "code",
   "execution_count": 25,
   "metadata": {},
   "outputs": [
    {
     "name": "stdout",
     "output_type": "stream",
     "text": [
      "My first 'matrix': [[1, 2, 3], [4, 5, 6], [7, 8, 9]]\n"
     ]
    }
   ],
   "source": [
    "M = [[1,2,3],\n",
    "     [4,5,6],\n",
    "     [7,8,9]] # A 3 x 3 Matrix, as nested lists\n",
    "\n",
    "print(\"My first 'matrix':\", M)"
   ]
  },
  {
   "cell_type": "markdown",
   "metadata": {},
   "source": [
    "Here, we've coded a list that contains three other lists. The effect is to represent a 3 x 3 matrix of numbers. Such a structure can be accessed in a variety of ways:"
   ]
  },
  {
   "cell_type": "code",
   "execution_count": 26,
   "metadata": {},
   "outputs": [
    {
     "data": {
      "text/plain": [
       "[1, 2, 3]"
      ]
     },
     "execution_count": 26,
     "metadata": {},
     "output_type": "execute_result"
    }
   ],
   "source": [
    "M[0] # Get first row"
   ]
  },
  {
   "cell_type": "code",
   "execution_count": 27,
   "metadata": {},
   "outputs": [
    {
     "data": {
      "text/plain": [
       "3"
      ]
     },
     "execution_count": 27,
     "metadata": {},
     "output_type": "execute_result"
    }
   ],
   "source": [
    "M[0][2] # Get first row, then get item 3 withing the row"
   ]
  },
  {
   "cell_type": "markdown",
   "metadata": {},
   "source": [
    "## Comprehensions\n",
    "\n",
    "Python includes a more advanced operation known as a **list comprehension** expression, which turns out to be a powerful way to process structures like our matrix. \n",
    "List comprehesions are a way to build a new list by running an expression on each item in a sequence, one at a time, from left to right. They are coded in square brackets.\n",
    "\n",
    "Suppose, for instance, that we need to extract the second column of the prior section's matrix. It's easy to grab rows by simple indexing because the matrix is stored by rows, but it's almost as easy to get a column with a list comprehensions:"
   ]
  },
  {
   "cell_type": "code",
   "execution_count": 31,
   "metadata": {},
   "outputs": [
    {
     "name": "stdout",
     "output_type": "stream",
     "text": [
      "[2, 5, 8]\n"
     ]
    }
   ],
   "source": [
    "col2 = [row[1] for row in M] # Collect the items in column 3.\n",
    "print(col2)"
   ]
  },
  {
   "cell_type": "code",
   "execution_count": 30,
   "metadata": {},
   "outputs": [
    {
     "name": "stdout",
     "output_type": "stream",
     "text": [
      "[[1, 2, 3], [4, 5, 6], [7, 8, 9]]\n"
     ]
    }
   ],
   "source": [
    "print(M) # The matrix is unchanged."
   ]
  },
  {
   "cell_type": "markdown",
   "metadata": {},
   "source": [
    "List comprehensions can be more complex in practice:"
   ]
  },
  {
   "cell_type": "code",
   "execution_count": 34,
   "metadata": {},
   "outputs": [
    {
     "name": "stdout",
     "output_type": "stream",
     "text": [
      "Add 1 to each item in column 2: [3, 6, 9]\n"
     ]
    }
   ],
   "source": [
    "row = [row[1] + 1 for row in M] \n",
    "print('Add 1 to each item in column 2:', row)"
   ]
  },
  {
   "cell_type": "code",
   "execution_count": 36,
   "metadata": {},
   "outputs": [
    {
     "name": "stdout",
     "output_type": "stream",
     "text": [
      "Filter out odd items (pick evens): [2, 8]\n"
     ]
    }
   ],
   "source": [
    "row = [row[1] for row in M if row[1] % 2 == 0] # List comprehensions make a new list of results\n",
    "print('Filter out odd items (pick evens):', row)"
   ]
  },
  {
   "cell_type": "code",
   "execution_count": 38,
   "metadata": {},
   "outputs": [
    {
     "name": "stdout",
     "output_type": "stream",
     "text": [
      "Diagonal: [1, 5, 9]\n"
     ]
    }
   ],
   "source": [
    "diag = [M[i][i] for i in [0,1,2]]\n",
    "print('Diagonal:', diag)"
   ]
  },
  {
   "cell_type": "code",
   "execution_count": 39,
   "metadata": {},
   "outputs": [
    {
     "name": "stdout",
     "output_type": "stream",
     "text": [
      "Doubles ['hh', 'aa', 'cc', 'kk']\n"
     ]
    }
   ],
   "source": [
    "doubles = [c * 2 for c in 'hack']\n",
    "print('Doubles', doubles)"
   ]
  },
  {
   "cell_type": "code",
   "execution_count": 40,
   "metadata": {},
   "outputs": [
    {
     "data": {
      "text/plain": [
       "[0, 1, 2, 3]"
      ]
     },
     "execution_count": 40,
     "metadata": {},
     "output_type": "execute_result"
    }
   ],
   "source": [
    "# Integers 0...(N-1)\n",
    "list(range(4))"
   ]
  },
  {
   "cell_type": "code",
   "execution_count": 42,
   "metadata": {},
   "outputs": [
    {
     "data": {
      "text/plain": [
       "[-6, -4, -2, 0, 2, 4, 6]"
      ]
     },
     "execution_count": 42,
     "metadata": {},
     "output_type": "execute_result"
    }
   ],
   "source": [
    "# -6 to 6 by 2\n",
    "list(range(-6,7,2))"
   ]
  },
  {
   "cell_type": "code",
   "execution_count": 43,
   "metadata": {},
   "outputs": [
    {
     "data": {
      "text/plain": [
       "[[0, 0], [1, 1], [4, 8], [9, 27]]"
      ]
     },
     "execution_count": 43,
     "metadata": {},
     "output_type": "execute_result"
    }
   ],
   "source": [
    "# Multiple values, \"if\" filters\n",
    "[[x**2, x**3] for x in range(4)]"
   ]
  },
  {
   "cell_type": "code",
   "execution_count": 44,
   "metadata": {},
   "outputs": [
    {
     "data": {
      "text/plain": [
       "[[2, 1, 4], [4, 2, 8], [6, 3, 12]]"
      ]
     },
     "execution_count": 44,
     "metadata": {},
     "output_type": "execute_result"
    }
   ],
   "source": [
    "[[x, x // 2, x * 2] for x in range(-6,7,2) if x > 0]"
   ]
  },
  {
   "cell_type": "markdown",
   "metadata": {},
   "source": [
    "List comprehensions are optional, but they can be very useful in practice and often provide a processing speed advantage.\n",
    "\n",
    "Enclosing it in **parentheses** can also be used to create an iterable object known as a **generator**, which produces results on demand per Python's iteration protocol"
   ]
  },
  {
   "cell_type": "code",
   "execution_count": 45,
   "metadata": {},
   "outputs": [
    {
     "name": "stdout",
     "output_type": "stream",
     "text": [
      "[[1, 2, 3], [4, 5, 6], [7, 8, 9]]\n"
     ]
    }
   ],
   "source": [
    "print(M)"
   ]
  },
  {
   "cell_type": "code",
   "execution_count": 46,
   "metadata": {},
   "outputs": [
    {
     "data": {
      "text/plain": [
       "6"
      ]
     },
     "execution_count": 46,
     "metadata": {},
     "output_type": "execute_result"
    }
   ],
   "source": [
    "G = (sum(row) for row in M) # Make a generator of row sums\n",
    "next(G)                     # Run the iteration protocol (ahead)"
   ]
  },
  {
   "cell_type": "code",
   "execution_count": 47,
   "metadata": {},
   "outputs": [
    {
     "data": {
      "text/plain": [
       "15"
      ]
     },
     "execution_count": 47,
     "metadata": {},
     "output_type": "execute_result"
    }
   ],
   "source": [
    "next(G)"
   ]
  },
  {
   "cell_type": "code",
   "execution_count": 48,
   "metadata": {},
   "outputs": [
    {
     "data": {
      "text/plain": [
       "24"
      ]
     },
     "execution_count": 48,
     "metadata": {},
     "output_type": "execute_result"
    }
   ],
   "source": [
    "next(G)"
   ]
  },
  {
   "cell_type": "markdown",
   "metadata": {},
   "source": [
    "And comprehensions syntax can also be used to create **sets** and **dictionaries** when enclosed in curly braces:"
   ]
  },
  {
   "cell_type": "code",
   "execution_count": 49,
   "metadata": {},
   "outputs": [
    {
     "data": {
      "text/plain": [
       "{6, 15, 24}"
      ]
     },
     "execution_count": 49,
     "metadata": {},
     "output_type": "execute_result"
    }
   ],
   "source": [
    "{sum(row) for row in M} # Makes an unoredered set of row sums"
   ]
  },
  {
   "cell_type": "code",
   "execution_count": 50,
   "metadata": {},
   "outputs": [
    {
     "data": {
      "text/plain": [
       "{0: 6, 1: 15, 2: 24}"
      ]
     },
     "execution_count": 50,
     "metadata": {},
     "output_type": "execute_result"
    }
   ],
   "source": [
    "{i: sum(M[i]) for i in range(3)}"
   ]
  }
 ],
 "metadata": {
  "kernelspec": {
   "display_name": "Python 3",
   "language": "python",
   "name": "python3"
  },
  "language_info": {
   "codemirror_mode": {
    "name": "ipython",
    "version": 3
   },
   "file_extension": ".py",
   "mimetype": "text/x-python",
   "name": "python",
   "nbconvert_exporter": "python",
   "pygments_lexer": "ipython3",
   "version": "3.11.4"
  }
 },
 "nbformat": 4,
 "nbformat_minor": 2
}
